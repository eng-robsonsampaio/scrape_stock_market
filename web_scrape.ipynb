{
 "cells": [
  {
   "cell_type": "markdown",
   "metadata": {},
   "source": [
    "<h3>Libraries"
   ]
  },
  {
   "cell_type": "code",
   "execution_count": 106,
   "metadata": {},
   "outputs": [],
   "source": [
    "import pandas as pd\n",
    "import requests\n",
    "from bs4 import BeautifulSoup\n",
    "from selenium import webdriver\n",
    "import urls\n",
    "import time \n",
    "import random"
   ]
  },
  {
   "cell_type": "markdown",
   "metadata": {},
   "source": [
    "<h3>Getting the list of Stocks</h3>"
   ]
  },
  {
   "cell_type": "code",
   "execution_count": 107,
   "metadata": {},
   "outputs": [],
   "source": [
    "headers = {'User-Agent': 'Mozilla/5.0 (Macintosh; Intel Mac OS X 10_10_1) AppleWebKit/537.36 (KHTML, like Gecko) Chrome/39.0.2171.95 Safari/537.36'}\n",
    "response = requests.get(urls.dados_de_mercado, headers=headers)"
   ]
  },
  {
   "cell_type": "code",
   "execution_count": 108,
   "metadata": {},
   "outputs": [],
   "source": [
    "soup = BeautifulSoup(response.text, 'html.parser')"
   ]
  },
  {
   "cell_type": "code",
   "execution_count": 109,
   "metadata": {},
   "outputs": [],
   "source": [
    "tbody_tag = soup.find('tbody')"
   ]
  },
  {
   "cell_type": "code",
   "execution_count": 110,
   "metadata": {},
   "outputs": [
    {
     "name": "stdout",
     "output_type": "stream",
     "text": [
      "Tag 'tbody' não encontrada na página.\n"
     ]
    }
   ],
   "source": [
    "stocks_list = []\n",
    "if tbody_tag:\n",
    "    # Encontrar todas as tags 'a' dentro da tag 'tbody'\n",
    "    links = tbody_tag.find_all('a')\n",
    "\n",
    "    # Imprimir os links encontrados\n",
    "    for link in links:\n",
    "        stocks_list.append(link.get_text(strip=True))\n",
    "else:\n",
    "    print(\"Tag 'tbody' não encontrada na página.\")"
   ]
  },
  {
   "cell_type": "code",
   "execution_count": 111,
   "metadata": {},
   "outputs": [
    {
     "ename": "IndexError",
     "evalue": "list index out of range",
     "output_type": "error",
     "traceback": [
      "\u001b[1;31m---------------------------------------------------------------------------\u001b[0m",
      "\u001b[1;31mIndexError\u001b[0m                                Traceback (most recent call last)",
      "\u001b[1;32mc:\\Users\\robso\\OneDrive\\Área de Trabalho\\Projetos\\scrape_stock_market\\web_scrape.ipynb Cell 8\u001b[0m line \u001b[0;36m1\n\u001b[1;32m----> <a href='vscode-notebook-cell:/c%3A/Users/robso/OneDrive/%C3%81rea%20de%20Trabalho/Projetos/scrape_stock_market/web_scrape.ipynb#X24sZmlsZQ%3D%3D?line=0'>1</a>\u001b[0m stocks_list[\u001b[39m0\u001b[39;49m]\n",
      "\u001b[1;31mIndexError\u001b[0m: list index out of range"
     ]
    }
   ],
   "source": [
    "stocks_list[0]"
   ]
  },
  {
   "cell_type": "markdown",
   "metadata": {},
   "source": [
    "<h3>Scrapping only one stock</h3>"
   ]
  },
  {
   "cell_type": "code",
   "execution_count": null,
   "metadata": {},
   "outputs": [],
   "source": [
    "haeder = ['stock', '', '31/12/2009', '31/12/2010', '31/03/2011', '30/06/2011',\n",
    "       '30/09/2011', '31/12/2011', '31/03/2012', '30/06/2012', '30/09/2012',\n",
    "       '31/12/2012', '31/03/2013', '30/06/2013', '30/09/2013', '31/12/2013',\n",
    "       '31/03/2014', '30/06/2014', '30/09/2014', '31/12/2014', '31/03/2015',\n",
    "       '30/06/2015', '30/09/2015', '31/12/2015', '31/03/2016', '30/06/2016',\n",
    "       '30/09/2016', '31/12/2016', '31/03/2017', '30/06/2017', '30/09/2017',\n",
    "       '31/12/2017', '31/03/2018', '30/06/2018', '30/09/2018', '31/12/2018',\n",
    "       '31/03/2019', '30/06/2019', '30/09/2019', '31/12/2019', '31/03/2020',\n",
    "       '30/06/2020', '30/09/2020', '31/12/2020', '31/03/2021', '30/06/2021',\n",
    "       '30/09/2021', '31/12/2021', '31/03/2022', '30/06/2022', '30/09/2022',\n",
    "       '31/12/2022', '31/03/2023', '30/06/2023']"
   ]
  },
  {
   "cell_type": "code",
   "execution_count": null,
   "metadata": {},
   "outputs": [],
   "source": [
    "df_stock = pd.DataFrame(columns=headers)"
   ]
  },
  {
   "cell_type": "code",
   "execution_count": null,
   "metadata": {},
   "outputs": [],
   "source": [
    "for stock in stocks_list:\n",
    "    time.sleep(random.uniform(1, 3))\n",
    "    stock_response = requests.get(f\"{urls.dados_de_mercado_base}/bolsa/acoes/{stocks_list}'/balancos'\", headers=headers)\n",
    "    soup_stock = BeautifulSoup(stock_response.text, 'html.parser')\n",
    "    table = soup_stock.find('table')\n",
    "    data = []\n",
    "    # Verificar se a tag 'table' foi encontrada\n",
    "    if table:\n",
    "        # Extrair as linhas do cabeçalho (<thead>) e do corpo (<tbody>)\n",
    "        header_rows = table.thead.find_all('tr')\n",
    "        body_rows = table.tbody.find_all('tr')\n",
    "\n",
    "        # Extrair os títulos das colunas\n",
    "        headers = [header.get_text(strip=True) for header in header_rows[0].find_all('th')]\n",
    "\n",
    "        # Extrair os dados do corpo da tabela\n",
    "        row_data = [cell.get_text(strip=True) for cell in body_rows[1].find_all('td')]\n",
    "        row_data.insert(0, stock)\n",
    "        data.append(row_data)\n",
    "        df_stock.loc[len(df_stock)] = data\n",
    "    else:\n",
    "        print(\"Tag 'table' não encontrada na página.\")\n",
    "    "
   ]
  },
  {
   "cell_type": "code",
   "execution_count": null,
   "metadata": {},
   "outputs": [
    {
     "data": {
      "text/html": [
       "<div>\n",
       "<style scoped>\n",
       "    .dataframe tbody tr th:only-of-type {\n",
       "        vertical-align: middle;\n",
       "    }\n",
       "\n",
       "    .dataframe tbody tr th {\n",
       "        vertical-align: top;\n",
       "    }\n",
       "\n",
       "    .dataframe thead th {\n",
       "        text-align: right;\n",
       "    }\n",
       "</style>\n",
       "<table border=\"1\" class=\"dataframe\">\n",
       "  <thead>\n",
       "    <tr style=\"text-align: right;\">\n",
       "      <th></th>\n",
       "      <th>User-Agent</th>\n",
       "    </tr>\n",
       "  </thead>\n",
       "  <tbody>\n",
       "  </tbody>\n",
       "</table>\n",
       "</div>"
      ],
      "text/plain": [
       "Empty DataFrame\n",
       "Columns: [User-Agent]\n",
       "Index: []"
      ]
     },
     "execution_count": 105,
     "metadata": {},
     "output_type": "execute_result"
    }
   ],
   "source": [
    "df_stock.head()"
   ]
  }
 ],
 "metadata": {
  "kernelspec": {
   "display_name": "Python 3",
   "language": "python",
   "name": "python3"
  },
  "language_info": {
   "codemirror_mode": {
    "name": "ipython",
    "version": 3
   },
   "file_extension": ".py",
   "mimetype": "text/x-python",
   "name": "python",
   "nbconvert_exporter": "python",
   "pygments_lexer": "ipython3",
   "version": "3.10.5"
  }
 },
 "nbformat": 4,
 "nbformat_minor": 2
}
