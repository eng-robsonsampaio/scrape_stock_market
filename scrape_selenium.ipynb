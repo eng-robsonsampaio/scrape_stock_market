{
 "cells": [
  {
   "cell_type": "code",
   "execution_count": 1,
   "metadata": {},
   "outputs": [],
   "source": [
    "from selenium import webdriver\n",
    "from selenium.webdriver.common.by import By\n",
    "from selenium.webdriver.support.ui import WebDriverWait\n",
    "from selenium.webdriver.support import expected_conditions as EC\n",
    "from selenium.webdriver.chrome.options import Options\n",
    "from bs4 import BeautifulSoup\n",
    "import pandas as pd\n",
    "import time\n",
    "import random\n",
    "from datetime import datetime\n",
    "import requests\n",
    "import os"
   ]
  },
  {
   "cell_type": "code",
   "execution_count": 2,
   "metadata": {},
   "outputs": [],
   "source": [
    "def scrape_stock_list(url=\"https://www.infomoney.com.br/cotacoes/empresas-b3/\"):\n",
    "    \"\"\"\n",
    "    Retrieves stock information from the given URL.\n",
    "\n",
    "    Parameters:\n",
    "        url (str, optional): The URL to fetch stock information from. Defaults to\n",
    "                            \"https://www.infomoney.com.br/cotacoes/empresas-b3/\".\n",
    "\n",
    "    Returns:\n",
    "        dict: A dictionary containing stock information with keys 'stock', 'value','type', and 'link'.\n",
    "\n",
    "    The function fetches stock information from the specified webpage, including\n",
    "    stock names, values, types, and links. It returns the data in a dictionary format.\n",
    "\n",
    "    Example:\n",
    "        stock_data = get_stock_list()\n",
    "        print(stock_data)\n",
    "    \"\"\"\n",
    "    headers = {'User-Agent': 'Mozilla/5.0 (Macintosh; Intel Mac OS X 10_10_1) AppleWebKit/537.36 (KHTML, like Gecko) Chrome/39.0.2171.95 Safari/537.36'}\n",
    "    response = requests.get(url, headers=headers)\n",
    "    soup = BeautifulSoup(response.text, 'html.parser')\n",
    "\n",
    "    stocks = []\n",
    "    values = []\n",
    "    links = []\n",
    "    types = []\n",
    "\n",
    "    tables = soup.find_all('table')\n",
    "\n",
    "    # Iterate through each table\n",
    "    for table in tables:\n",
    "        # Find all rows (tr) in the table\n",
    "        rows = table.find_all('tr')\n",
    "\n",
    "        # Iterate through each row\n",
    "        for row in rows:\n",
    "            # Find the <td class='higher'> containing the name of the stock\n",
    "            stock_name_td = row.find('td', class_='higher')\n",
    "            if stock_name_td:\n",
    "                stock_name = stock_name_td.text.strip()\n",
    "\n",
    "                # Find all <td class='strong'> containing <a> tags with links and values\n",
    "                strong_tds = row.find_all('td', class_='strong')\n",
    "                for strong_td in strong_tds:\n",
    "                    link_a = strong_td.find('a')\n",
    "                    if link_a:\n",
    "                        link = link_a['href']\n",
    "                        value = link_a.text.strip()\n",
    "\n",
    "                        # Extract the 'type' from the link\n",
    "                        type_start = link.find('/b3/') + 4\n",
    "                        type_end = link.find('/', type_start)\n",
    "                        asset_type = link[type_start:type_end]\n",
    "\n",
    "                        # Append data to lists\n",
    "                        stocks.append(stock_name)\n",
    "                        values.append(value)\n",
    "                        links.append(link)\n",
    "                        types.append(asset_type)\n",
    "\n",
    "    # Create a DataFrame\n",
    "    return {'stock': stocks, 'value': values, 'type': types, 'link': links}"
   ]
  },
  {
   "cell_type": "code",
   "execution_count": 3,
   "metadata": {},
   "outputs": [],
   "source": [
    "df_stocks = pd.DataFrame(scrape_stock_list())"
   ]
  },
  {
   "cell_type": "code",
   "execution_count": 5,
   "metadata": {},
   "outputs": [],
   "source": [
    "df_stocks.to_csv('output/stock_list.csv', sep=';', index=False)"
   ]
  },
  {
   "cell_type": "code",
   "execution_count": 9,
   "metadata": {},
   "outputs": [
    {
     "data": {
      "image/png": "[encoded data removed]",
      "text/plain": [
       "<Figure size 800x300 with 1 Axes>"
      ]
     },
     "metadata": {},
     "output_type": "display_data"
    }
   ],
   "source": [
    "import matplotlib.pyplot as plt\n",
    "import seaborn as sns\n",
    "\n",
    "# Criar um gráfico de barras usando seaborn\n",
    "fig = plt.figure(figsize=(8, 3))\n",
    "ax = sns.countplot(x='type', data=df_stocks[df_stocks['type']!='fii'], palette='viridis')\n",
    "plt.xlabel('Type of Stock')\n",
    "plt.ylabel('Count')\n",
    "plt.title('Count of Each Stock Type')\n",
    "plt.ylim(top=550)\n",
    "# Adicionar a quantidade acima de cada barra\n",
    "for p in ax.patches:\n",
    "    ax.annotate(f'{int(p.get_height())}', (p.get_x() + p.get_width() / 2., p.get_height()),\n",
    "                ha='center', va='center', xytext=(0, 5), textcoords='offset points')"
   ]
  },
  {
   "cell_type": "code",
   "execution_count": 10,
   "metadata": {},
   "outputs": [],
   "source": [
    "def click_on_element(driver, method, path, wait_time=15):\n",
    "    try:\n",
    "        WebDriverWait(driver, wait_time).until(EC.element_to_be_clickable((method, path))).click()\n",
    "        return True\n",
    "    except:\n",
    "        # print(f'Could not click on {path}')\n",
    "        return False"
   ]
  },
  {
   "cell_type": "code",
   "execution_count": 11,
   "metadata": {},
   "outputs": [],
   "source": [
    "def get_stock_data(url, tipo, ativo):\n",
    "    chrome_options = Options()\n",
    "    chrome_options.add_argument('--headless')  # Run in headless mode\n",
    "    chrome_options.add_argument('window-size=1920x1080')\n",
    "    driver = webdriver.Chrome(options=chrome_options)\n",
    "    # driver.maximize_window()\n",
    "    driver.get(url)\n",
    "    _ativo = []\n",
    "    _tipo = []\n",
    "    data = []\n",
    "    abertura = []\n",
    "    fechamento = []\n",
    "    variacao = []\n",
    "    minimo = []\n",
    "    maximo = []\n",
    "    volume = []\n",
    "    # driver.maximize_window()\n",
    "\n",
    "    #esperar entre 2 e 10 segundos para a pagina carregar\n",
    "    time.sleep(random.uniform(2, 6))\n",
    "\n",
    "    # print('Switching to iFrame')\n",
    "    driver.switch_to.frame(driver.find_element(By.TAG_NAME, \"iframe\"))\n",
    "\n",
    "    click_on_element(driver=driver, method=By.XPATH, path='//*[@id=\"fechar\"]')\n",
    "    # print('Click on close button')\n",
    "\n",
    "    # print('Switching to the main frame')\n",
    "    driver.switch_to.default_content()\n",
    "\n",
    "    driver.implicitly_wait(3)\n",
    "\n",
    "    date_min_state = click_on_element(driver=driver, method=By.XPATH, path='//*[@id=\"dateMin\"]')\n",
    "    if date_min_state:\n",
    "        datemin = driver.find_element(by=By.XPATH, value='//*[@id=\"dateMin\"]')\n",
    "        datemin.send_keys('01/01/2020')\n",
    "    else:\n",
    "        driver.quit()\n",
    "        return {\n",
    "                'ATIVO': [],\n",
    "                'TIPO': [],\n",
    "                'DATA': [], \n",
    "                'ABERTURA': [], \n",
    "                'FECHAMENTO': [], \n",
    "                'VARIACAO': [],\n",
    "                'MINIMO': [], \n",
    "                'MAXIMO': [], \n",
    "                'VOLUME': [], \n",
    "            }\n",
    "\n",
    "    today = datetime.now().strftime(\"%d/%m/%Y\").strip()\n",
    "    date_max_state = click_on_element(driver=driver, method=By.XPATH, path='//*[@id=\"dateMax\"]')\n",
    "    if date_max_state:\n",
    "        datemax = driver.find_element(by=By.XPATH, value='//*[@id=\"dateMax\"]')\n",
    "        datemax.send_keys(today)\n",
    "    else:\n",
    "        driver.quit()\n",
    "        return {\n",
    "                'ATIVO': [],\n",
    "                'TIPO': [],\n",
    "                'DATA': [], \n",
    "                'ABERTURA': [], \n",
    "                'FECHAMENTO': [], \n",
    "                'VARIACAO': [],\n",
    "                'MINIMO': [], \n",
    "                'MAXIMO': [], \n",
    "                'VOLUME': [], \n",
    "            }\n",
    "    \n",
    "    see_history_state = click_on_element(driver=driver, method=By.XPATH, path='//*[@id=\"see_all_quotes_history\"]')\n",
    "    if see_history_state:\n",
    "        # print('Click on see data')\n",
    "        pass\n",
    "    else:\n",
    "        driver.quit()\n",
    "        return {\n",
    "                'ATIVO': [],\n",
    "                'TIPO': [],\n",
    "                'DATA': [], \n",
    "                'ABERTURA': [], \n",
    "                'FECHAMENTO': [], \n",
    "                'VARIACAO': [],\n",
    "                'MINIMO': [], \n",
    "                'MAXIMO': [], \n",
    "                'VOLUME': [], \n",
    "            }\n",
    "    # hold for three seconds fo the page to load\n",
    "    # time.sleep(2)\n",
    "    try:\n",
    "        WebDriverWait(driver, 30).until(EC.invisibility_of_element_located((By.XPATH,  '//*[@id=\"img_load_more_quotes_history\"]')))\n",
    "    except:\n",
    "        # print('Loading not completed')\n",
    "        driver.quit()\n",
    "        return {\n",
    "                'ATIVO': [],\n",
    "                'TIPO': [],\n",
    "                'DATA': [], \n",
    "                'ABERTURA': [], \n",
    "                'FECHAMENTO': [], \n",
    "                'VARIACAO': [],\n",
    "                'MINIMO': [], \n",
    "                'MAXIMO': [], \n",
    "                'VOLUME': [], \n",
    "            }\n",
    "\n",
    "    time.sleep(5)\n",
    "    #obter o HTML da pagina\n",
    "    html = driver.page_source\n",
    "\n",
    "    #Fechar driver do chrome\n",
    "    driver.quit()\n",
    "\n",
    "    #Usar o BS4 para analisar o meu html da url\n",
    "    soup = BeautifulSoup(html, 'html.parser')\n",
    "\n",
    "    # Encontrar todas as linhas <tr>\n",
    "    rows = soup.find('table').find_all('tr')\n",
    "\n",
    "    # Iterar sobre as linhas e extrair os valores\n",
    "    for row in rows[1:]:\n",
    "        _ativo.append(ativo)\n",
    "        _tipo.append(tipo)\n",
    "        for index, row_value in enumerate(row):\n",
    "            # row_value.text.\n",
    "            if index == 0:\n",
    "                data.append(row_value.text)\n",
    "            elif index == 1:\n",
    "                abertura.append(row_value.text)\n",
    "            elif index == 2:\n",
    "                variacao.append(row_value.text)\n",
    "            elif index == 3:\n",
    "                fechamento.append(row_value.text)\n",
    "            elif index == 4:\n",
    "                minimo.append(row_value.text)\n",
    "            elif index == 5:\n",
    "                maximo.append(row_value.text)\n",
    "            elif index == 6:\n",
    "                volume.append(row_value.text)\n",
    "\n",
    "    # Create a DataFrame\n",
    "    return  {\n",
    "                'ATIVO': _ativo,\n",
    "                'TIPO': _tipo,\n",
    "                'DATA': data, \n",
    "                'ABERTURA': abertura, \n",
    "                'FECHAMENTO': fechamento, \n",
    "                'VARIACAO': variacao,\n",
    "                'MINIMO': minimo, \n",
    "                'MAXIMO': maximo, \n",
    "                'VOLUME': volume, \n",
    "            }"
   ]
  },
  {
   "cell_type": "code",
   "execution_count": 12,
   "metadata": {},
   "outputs": [],
   "source": [
    "header_df = ['ATIVO', 'TIPO', 'DATA', 'ABERTURA', 'FECHAMENTO', 'VARIACAO', 'MINIMO', 'MAXIMO', 'VOLUME']\n",
    "df_resultados = pd.DataFrame(columns=header_df)\n",
    "df_fail = pd.DataFrame(columns=['ATIVO', 'TIPO', 'LINK'])"
   ]
  },
  {
   "cell_type": "code",
   "execution_count": null,
   "metadata": {},
   "outputs": [],
   "source": [
    "num_of_assets = df_stocks.shape[0]\n",
    "num_loaded = 0\n",
    "num_failed = 0\n",
    "couting = 0\n",
    "\n",
    "for index, row in df_stocks[df_stocks['type']!='fii'].iterrows():\n",
    "    link = row['link']\n",
    "    tipo = row['type']\n",
    "    ativo = row['value']\n",
    "    print(f'########  Loading: {ativo} ########')\n",
    "    for i in range(2):\n",
    "        # Chamar o método de busca\n",
    "        resultado = get_stock_data(f\"{link}historico/\", tipo, ativo)\n",
    "        if len(resultado['ATIVO']) == 0:\n",
    "            # print(f'{ativo} loading fail\\n')\n",
    "            if i == 1:\n",
    "                print(f'########  Add {ativo} to df_fail')\n",
    "                df_fail = pd.concat([df_fail, pd.DataFrame.from_dict({'ATIVO':[ativo], 'TIPO':[tipo], 'LINK':[link]})], ignore_index=True)\n",
    "                num_failed = num_failed + 1  \n",
    "        else:\n",
    "            df_resultados = pd.concat([df_resultados, pd.DataFrame.from_dict(resultado)], ignore_index=True)\n",
    "            print(f'########  {ativo} loaded!')  \n",
    "            num_loaded = num_loaded + 1          \n",
    "            break\n",
    "    couting = couting + 1\n",
    "    print(f'########  Done: {couting}/{num_of_assets} ########')\n",
    "    print(f'########  Loaded: {num_loaded}/{num_of_assets} ########')\n",
    "    print(f'########  Failed: {num_failed}/{num_of_assets} ########\\n')"
   ]
  },
  {
   "cell_type": "code",
   "execution_count": 34,
   "metadata": {},
   "outputs": [],
   "source": [
    "# Specify the desired directory\n",
    "directory = 'output'\n",
    "\n",
    "# Check if the directory exists, and create it if not\n",
    "if not os.path.exists(directory):\n",
    "    os.makedirs(directory)"
   ]
  },
  {
   "cell_type": "code",
   "execution_count": 35,
   "metadata": {},
   "outputs": [],
   "source": [
    "df_resultados.to_csv(f'{directory}/stoks.csv', index=False, sep=';')"
   ]
  },
  {
   "cell_type": "code",
   "execution_count": 36,
   "metadata": {},
   "outputs": [],
   "source": [
    "df_fail.to_csv(f'{directory}/stoks_failed.csv', index=False, sep=';')"
   ]
  },
  {
   "cell_type": "code",
   "execution_count": 27,
   "metadata": {},
   "outputs": [
    {
     "data": {
      "image/png": "[encoded data removed]",
      "text/plain": [
       "<Figure size 800x300 with 2 Axes>"
      ]
     },
     "metadata": {},
     "output_type": "display_data"
    }
   ],
   "source": [
    "import matplotlib.pyplot as plt\n",
    "import seaborn as sns\n",
    "\n",
    "# Criar um gráfico de barras usando seaborn\n",
    "fig, axes = plt.subplots(1, 2, figsize=(8, 3), sharey=True)\n",
    "\n",
    "df_unique = df_resultados.drop_duplicates(subset=['ATIVO', 'TIPO'])\n",
    "ax = sns.countplot(x='TIPO', data=df_unique, order=['acao', 'bdr', 'etf', 'ativo'], palette='viridis', ax=axes[0])\n",
    "axes[0].set_xlabel('Type of Stock')\n",
    "axes[0].set_ylabel('Count')\n",
    "axes[0].set_title('Count of Each Stock Type')\n",
    "axes[0].tick_params(axis='y', labelleft=True) \n",
    "# plt.ylim(top=550)\n",
    "# Adicionar a quantidade acima de cada barra\n",
    "for p in ax.patches:\n",
    "    ax.annotate(f'{int(p.get_height())}', (p.get_x() + p.get_width() / 2., p.get_height()),\n",
    "                ha='center', va='center', xytext=(0, 5), textcoords='offset points')\n",
    "\n",
    "ax_fail = sns.countplot(x='TIPO', data=df_fail, order=['acao', 'bdr', 'etf', 'ativo'], palette='viridis', ax=axes[1])\n",
    "axes[1].set_xlabel('Type of Stock')\n",
    "axes[1].set_ylabel('Count')\n",
    "axes[1].set_title('Stocks that failed by Type')\n",
    "axes[1].tick_params(axis='y', labelleft=True) \n",
    "\n",
    "# Calcular o limite superior para a y-axis separadamente para cada gráfico\n",
    "ylim_top_unique = df_unique['TIPO'].value_counts().max() * 1.15  # Aumentar 15%\n",
    "ylim_top_fail = df_fail['ATIVO'].value_counts().max() * 1.15  # Aumentar 15%\n",
    "limit = 0\n",
    "if ylim_top_unique > ylim_top_fail:\n",
    "    limit = ylim_top_unique\n",
    "else:\n",
    "    limit = ylim_top_fail\n",
    "# Ajustar o limite superior da y-axis em ambos os gráficos\n",
    "axes[0].set_ylim(top=limit)\n",
    "axes[1].set_ylim(top=limit)\n",
    "\n",
    "plt.tight_layout()\n",
    "# plt.ylim(top=550)\n",
    "# Adicionar a quantidade acima de cada barra\n",
    "for p in ax_fail.patches:\n",
    "    ax_fail.annotate(f'{int(p.get_height())}', (p.get_x() + p.get_width() / 2., p.get_height()),\n",
    "                ha='center', va='center', xytext=(0, 5), textcoords='offset points')"
   ]
  },
  {
   "cell_type": "code",
   "execution_count": 25,
   "metadata": {},
   "outputs": [
    {
     "data": {
      "text/plain": [
       "ATIVO         0\n",
       "TIPO          0\n",
       "DATA          0\n",
       "ABERTURA      0\n",
       "FECHAMENTO    0\n",
       "VARIACAO      0\n",
       "MINIMO        0\n",
       "MAXIMO        0\n",
       "VOLUME        0\n",
       "dtype: int64"
      ]
     },
     "execution_count": 25,
     "metadata": {},
     "output_type": "execute_result"
    }
   ],
   "source": [
    "df_resultados.isna().sum()"
   ]
  },
  {
   "cell_type": "code",
   "execution_count": 26,
   "metadata": {},
   "outputs": [
    {
     "data": {
      "text/plain": [
       "ATIVO    0\n",
       "TIPO     0\n",
       "LINK     0\n",
       "dtype: int64"
      ]
     },
     "execution_count": 26,
     "metadata": {},
     "output_type": "execute_result"
    }
   ],
   "source": [
    "df_fail.isna().sum()"
   ]
  },
  {
   "cell_type": "code",
   "execution_count": 21,
   "metadata": {},
   "outputs": [
    {
     "data": {
      "text/plain": [
       "stock    0\n",
       "value    0\n",
       "type     0\n",
       "link     0\n",
       "dtype: int64"
      ]
     },
     "execution_count": 21,
     "metadata": {},
     "output_type": "execute_result"
    }
   ],
   "source": [
    "df_stocks.isna().sum()"
   ]
  }
 ],
 "metadata": {
  "kernelspec": {
   "display_name": "Python 3",
   "language": "python",
   "name": "python3"
  },
  "language_info": {
   "codemirror_mode": {
    "name": "ipython",
    "version": 3
   },
   "file_extension": ".py",
   "mimetype": "text/x-python",
   "name": "python",
   "nbconvert_exporter": "python",
   "pygments_lexer": "ipython3",
   "version": "3.10.5"
  }
 },
 "nbformat": 4,
 "nbformat_minor": 2
}
